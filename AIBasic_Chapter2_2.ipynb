{
  "nbformat": 4,
  "nbformat_minor": 0,
  "metadata": {
    "colab": {
      "name": "AIBasic_Chapter2_2.ipynb",
      "provenance": [],
      "collapsed_sections": [],
      "toc_visible": true,
      "authorship_tag": "ABX9TyOYUPvKVkCCc5qrCQN+gyib",
      "include_colab_link": true
    },
    "kernelspec": {
      "name": "python3",
      "display_name": "Python 3"
    }
  },
  "cells": [
    {
      "cell_type": "markdown",
      "metadata": {
        "id": "view-in-github",
        "colab_type": "text"
      },
      "source": [
        "<a href=\"https://colab.research.google.com/github/SierraWJ/AIBasic_Instruct/blob/main/AIBasic_Chapter2_2.ipynb\" target=\"_parent\"><img src=\"https://colab.research.google.com/assets/colab-badge.svg\" alt=\"Open In Colab\"/></a>"
      ]
    },
    {
      "cell_type": "markdown",
      "metadata": {
        "id": "mUqVLJW-JgBH"
      },
      "source": [
        "# 수학과 함께하는 AI 기초\r\n",
        "## 2-*2* 예제 코드 Notebook"
      ]
    },
    {
      "cell_type": "markdown",
      "metadata": {
        "id": "Zp39RSC4EJeQ"
      },
      "source": [
        "Turtle 을 사용하는 실습은 Colab에서 지원하지를 않음 -> 이게 디스플레이에 출력되는 방식이다 보니 Colab환경에 맞지 않아서 쓸 수 가 없음.  \r\n",
        "ColabTurtle이라는 게 있는데 상당히 조잡하고 쓰기 힘들어서 패스..."
      ]
    },
    {
      "cell_type": "markdown",
      "metadata": {
        "id": "mY3vOkiktcwa"
      },
      "source": [
        "## 1. 여러 색을 갖는 이미지 데이터 표현 예제"
      ]
    },
    {
      "cell_type": "markdown",
      "metadata": {
        "id": "-ftQ2jtotwOI"
      },
      "source": [
        "numpy : Python에서 데이터 분석을 할 때 정말 많이 쓰는 라이브러리. 고성능의 수치계산을 위해 만들어짐. C로 구현되어있음.  \r\n",
        "*넘파이다. 넘피라 읽으면 진짜 많이 없어보이니 그렇게 읽지 말자.*  \r\n",
        "\r\n",
        "matplotlib : 파이썬에서 데이터 시각화를 할 때 많이 사용하는 라이브러리. 데이터들의 그래프를 그릴 때 많이 사용함.  \r\n",
        "이 친구는 맷플랏립 이라 읽기도 하는데 lib은 라이브러리로 읽든 립이라 읽든 이건 별 상관 없으니 편한대로 읽으시길.   \r\n",
        "matplotlib 위키백과 링크 -> https://ko.wikipedia.org/wiki/Matplotlib  \r\n",
        "간단한 예제들이 나와있으니 참고할 것. \r\n"
      ]
    },
    {
      "cell_type": "markdown",
      "metadata": {
        "id": "ko6rv46CwewG"
      },
      "source": [
        "###  1. 파일 불러오기"
      ]
    },
    {
      "cell_type": "markdown",
      "metadata": {
        "id": "id6WkHC9wkl1"
      },
      "source": [
        "주석에도 나와있다시피 각 모듈들의 역할은 다음과 같다만 조금 추가설명을 하자면  \r\n",
        "라이브러리는 소프트웨어를 개발할 때 필요한 다양한 자원들이라고 생각할 수 있다.  \r\n",
        "자원들의 예시 : \r\n",
        "- 구성 데이터\r\n",
        "- 문서\r\n",
        "- 도움말\r\n",
        "- 메시지 틀\r\n",
        "- 미리 작성된 코드\r\n",
        "- 서브루틴(함수)\r\n",
        "- 클래스\r\n",
        "- 값\r\n",
        "- 자료형 사양  \r\n",
        "\r\n",
        "출처 : https://ko.wikipedia.org/wiki/%EB%9D%BC%EC%9D%B4%EB%B8%8C%EB%9F%AC%EB%A6%AC_(%EC%BB%B4%ED%93%A8%ED%8C%85)  \r\n",
        "*용어에 대한 정확한 이해는 언어를 잘 아는 것 만큼이나 중요하다.*  \r\n",
        "numpy, matplotlib, PIL 같은 친구들은 라이브러리들이다. 이러한 라이브러리를 불러와서 하나의 프로그램처럼 사용한다고 모듈이라는 이름이 붙었다.  \r\n",
        "조금 더 사전적인 정의를 들자면 다음과 같다.  \r\n",
        "모듈 : 본체에 대한 독립 된 하위 단위.  \r\n",
        "numpy, matplotlib 라이브러리의 정보들을 통해 이 소스코드에서 마치 기계의 한 모듈처럼 사용할 수 있는 객체를 생성할 수 있다 정도만 이해하면 됨.  \r\n",
        "모듈화 : 기능별로 소스코드들을 나눠가며 프로그래밍 하여 유지보수 하기 쉽도록 만드는 방법. -> 객체지향에 대한 이해가 필요. "
      ]
    },
    {
      "cell_type": "code",
      "metadata": {
        "id": "UdeEAmi_wdB_"
      },
      "source": [
        "# 여러 색을 갖는 이미지 데이터 표현하기\r\n",
        "\r\n",
        "# 외부 모듈 정의\r\n",
        "import numpy as np                  # 벡터, 행렬 데이터를 쉽게 처리하기 위한 모듈\r\n",
        "import matplotlib.pyplot as plt     # 화면에 이미지 데이터를 보여주기 위한 모듈 \r\n",
        "import PIL.Image as pilimg          # 이미지 파일과 데이터 처리를 위한 모듈\r\n",
        "\r\n",
        "im = pilimg.open( \"rgb_circle.bmp\" ) # image file 읽어오기 "
      ],
      "execution_count": 1,
      "outputs": []
    },
    {
      "cell_type": "code",
      "metadata": {
        "colab": {
          "base_uri": "https://localhost:8080/",
          "height": 283
        },
        "id": "AThlmgPiAHfW",
        "outputId": "1ef80ad6-dd68-49f0-bc50-00e0b031e1d4"
      },
      "source": [
        "plt.imshow(pix)\r\n",
        "plt.axis(\"off\")\r\n",
        "plt.title(\"rgb_circle.bmp\")"
      ],
      "execution_count": 16,
      "outputs": [
        {
          "output_type": "execute_result",
          "data": {
            "text/plain": [
              "Text(0.5, 1.0, 'rgb_circle.bmp')"
            ]
          },
          "metadata": {
            "tags": []
          },
          "execution_count": 16
        },
        {
          "output_type": "display_data",
          "data": {
            "image/png": "[encoded data removed]",
            "text/plain": [
              "<Figure size 432x288 with 1 Axes>"
            ]
          },
          "metadata": {
            "tags": [],
            "needs_background": "light"
          }
        }
      ]
    },
    {
      "cell_type": "markdown",
      "metadata": {
        "id": "lBt3Hua22wqf"
      },
      "source": [
        "파일 입출력 처리가 조금 요상한 것을 알 수 있다.  \r\n",
        "C언어와는 조금 다른 방식 이지만 그냥 간단히 생각해보면 라이브러리를 통해 만들어진 모듈(객체)의 함수 즉 메서드를 사용했다는 것을 알 수 있다.  \r\n",
        "C언어에서 공부했던 개념들을 잘 이해했다면 파이썬은 이렇구나 하고 넘길 수 있겠지만 애매하게 알고있다면 정말 헷깔릴 수 있다. "
      ]
    },
    {
      "cell_type": "markdown",
      "metadata": {
        "id": "tgp8xXeU_TWu"
      },
      "source": [
        "### 2. 행렬처리"
      ]
    },
    {
      "cell_type": "code",
      "metadata": {
        "colab": {
          "base_uri": "https://localhost:8080/"
        },
        "id": "r-ZIIezA_q_p",
        "outputId": "6579d62e-206b-410e-c1e8-8390226b6c28"
      },
      "source": [
        "pix = np.array(im)      \r\n",
        "pix"
      ],
      "execution_count": 13,
      "outputs": [
        {
          "output_type": "execute_result",
          "data": {
            "text/plain": [
              "array([[[0, 0, 0],\n",
              "        [0, 0, 0],\n",
              "        [0, 0, 0],\n",
              "        ...,\n",
              "        [0, 0, 0],\n",
              "        [0, 0, 0],\n",
              "        [0, 0, 0]],\n",
              "\n",
              "       [[0, 0, 0],\n",
              "        [0, 0, 0],\n",
              "        [0, 0, 0],\n",
              "        ...,\n",
              "        [0, 0, 0],\n",
              "        [0, 0, 0],\n",
              "        [0, 0, 0]],\n",
              "\n",
              "       [[0, 0, 0],\n",
              "        [0, 0, 0],\n",
              "        [0, 0, 0],\n",
              "        ...,\n",
              "        [0, 0, 0],\n",
              "        [0, 0, 0],\n",
              "        [0, 0, 0]],\n",
              "\n",
              "       ...,\n",
              "\n",
              "       [[0, 0, 0],\n",
              "        [0, 0, 0],\n",
              "        [0, 0, 0],\n",
              "        ...,\n",
              "        [0, 0, 0],\n",
              "        [0, 0, 0],\n",
              "        [0, 0, 0]],\n",
              "\n",
              "       [[0, 0, 0],\n",
              "        [0, 0, 0],\n",
              "        [0, 0, 0],\n",
              "        ...,\n",
              "        [0, 0, 0],\n",
              "        [0, 0, 0],\n",
              "        [0, 0, 0]],\n",
              "\n",
              "       [[0, 0, 0],\n",
              "        [0, 0, 0],\n",
              "        [0, 0, 0],\n",
              "        ...,\n",
              "        [0, 0, 0],\n",
              "        [0, 0, 0],\n",
              "        [0, 0, 0]]], dtype=uint8)"
            ]
          },
          "metadata": {
            "tags": []
          },
          "execution_count": 13
        }
      ]
    },
    {
      "cell_type": "markdown",
      "metadata": {
        "id": "pflGRfYfAS9K"
      },
      "source": [
        "shape -> 현재 Matrix의 모양  "
      ]
    },
    {
      "cell_type": "code",
      "metadata": {
        "colab": {
          "base_uri": "https://localhost:8080/"
        },
        "id": "I-PIZ8Ch_zWO",
        "outputId": "b86920fb-04e7-4346-e8e7-84cae560084f"
      },
      "source": [
        "pix.shape"
      ],
      "execution_count": 15,
      "outputs": [
        {
          "output_type": "execute_result",
          "data": {
            "text/plain": [
              "(219, 230, 3)"
            ]
          },
          "metadata": {
            "tags": []
          },
          "execution_count": 15
        }
      ]
    },
    {
      "cell_type": "markdown",
      "metadata": {
        "id": "QtPLD0n9A1Hn"
      },
      "source": [
        "ndim -> 현재 Numpy Matrix의 차원 수"
      ]
    },
    {
      "cell_type": "code",
      "metadata": {
        "colab": {
          "base_uri": "https://localhost:8080/"
        },
        "id": "jCYDBc2WAxfd",
        "outputId": "958cf873-7b62-453f-998d-971e79a65068"
      },
      "source": [
        "pix.ndim"
      ],
      "execution_count": 18,
      "outputs": [
        {
          "output_type": "execute_result",
          "data": {
            "text/plain": [
              "3"
            ]
          },
          "metadata": {
            "tags": []
          },
          "execution_count": 18
        }
      ]
    },
    {
      "cell_type": "code",
      "metadata": {
        "id": "6-7WKkgD1Fx4",
        "colab": {
          "base_uri": "https://localhost:8080/"
        },
        "outputId": "2938f3d7-96ab-4194-84df-2a568abe341c"
      },
      "source": [
        "# image data를 numpy array로 구성하기\r\n",
        "pixSize = np.array(pix.shape)\r\n",
        "print(pixSize)"
      ],
      "execution_count": 14,
      "outputs": [
        {
          "output_type": "stream",
          "text": [
            "[219 230   3]\n"
          ],
          "name": "stdout"
        }
      ]
    },
    {
      "cell_type": "markdown",
      "metadata": {
        "id": "_kZxIuvT3kqe"
      },
      "source": [
        "이미지 데이터를 numpay array 즉 Matrix로 처리한 모습이다. "
      ]
    },
    {
      "cell_type": "markdown",
      "metadata": {
        "id": "txd4BiB0BaC-"
      },
      "source": [
        "pix array에서 각각 R(0), G(1), B(1) 성분 값 외에는 0으로 만들어서\r\n",
        "원본 이미지에서 R, G, B에 해당하는 배열 만들기 "
      ]
    },
    {
      "cell_type": "code",
      "metadata": {
        "id": "jI7MME4H_ltQ"
      },
      "source": [
        "pix_R = pix.copy()\r\n",
        "pix_R[:, :, (1,2)] = 0"
      ],
      "execution_count": 19,
      "outputs": []
    },
    {
      "cell_type": "code",
      "metadata": {
        "id": "A4tvFRf7BL2L"
      },
      "source": [
        "pix_R = pix.copy()\r\n",
        "pix_R[:, :, (1,2)] = 0"
      ],
      "execution_count": 20,
      "outputs": []
    },
    {
      "cell_type": "code",
      "metadata": {
        "id": "CZqX_MKrBMr8"
      },
      "source": [
        "pix_G = pix.copy()\r\n",
        "pix_G[:, :, (0,2)] = 0"
      ],
      "execution_count": 21,
      "outputs": []
    },
    {
      "cell_type": "code",
      "metadata": {
        "id": "J6q3_ZcmBNje"
      },
      "source": [
        "pix_B = pix.copy()\r\n",
        "pix_B[:, :, (0,1)] = 0\r\n",
        "#Argument들이 이해가 되지 않는다면 잘 생각해보시게. R, G, B 순서대로 0, 1, 2"
      ],
      "execution_count": 22,
      "outputs": []
    },
    {
      "cell_type": "markdown",
      "metadata": {
        "id": "vhMA9gXD_WvL"
      },
      "source": [
        "### 3. 이미지 데이터 출력"
      ]
    },
    {
      "cell_type": "markdown",
      "metadata": {
        "id": "AF1cy1ZnB79W"
      },
      "source": [
        "subplot -> plot에 출력되는 subplot들에 대한 처리  \r\n",
        "if plt.subplot(221) -> 2*2로 subplot을 잡은 것 중 1번째 \r\n"
      ]
    },
    {
      "cell_type": "code",
      "metadata": {
        "id": "N62NSdAZ1Iiq",
        "colab": {
          "base_uri": "https://localhost:8080/",
          "height": 115
        },
        "outputId": "eda573f1-b182-4570-a4a7-7106c6cf4fa8"
      },
      "source": [
        "# 원본 이미지인 pix 행렬을 이미지 데이터로 출력\r\n",
        "plt.subplot(141)\r\n",
        "plt.imshow(pix)\r\n",
        "plt.axis(\"off\")\r\n",
        "plt.title(\"RGB\")\r\n",
        "# pix 행렬에서 이미지 데이터의 R 채널을 출력\r\n",
        "plt.subplot(142)\r\n",
        "plt.imshow(pix_R)\r\n",
        "plt.axis(\"off\")\r\n",
        "plt.title(\"R(Red)\")\r\n",
        "# pix 행렬에서 이미지 데이터의 G 채널을 출력\r\n",
        "plt.subplot(143)\r\n",
        "plt.imshow(pix_G)\r\n",
        "plt.axis(\"off\")\r\n",
        "plt.title(\"G(Green)\")\r\n",
        "# pix 행렬에서 이미지 데이터의 B 채널을 출력\r\n",
        "plt.subplot(144)\r\n",
        "plt.imshow(pix_B)\r\n",
        "plt.axis(\"off\")\r\n",
        "plt.title(\"B(Blue)\")\r\n",
        "plt.show()"
      ],
      "execution_count": 28,
      "outputs": [
        {
          "output_type": "display_data",
          "data": {
            "image/png": "[encoded data removed]",
            "text/plain": [
              "<Figure size 432x288 with 4 Axes>"
            ]
          },
          "metadata": {
            "tags": [],
            "needs_background": "light"
          }
        }
      ]
    },
    {
      "cell_type": "markdown",
      "metadata": {
        "id": "O6ks6smrCt8p"
      },
      "source": [
        "## 2. 이미지 처리 예제"
      ]
    },
    {
      "cell_type": "code",
      "metadata": {
        "id": "h6TEuoGCC1yY"
      },
      "source": [
        "# 외부 모듈 읽어오기\r\n",
        "import numpy as np\r\n",
        "import matplotlib.pyplot as plt \r\n",
        "import PIL.Image as pilimg                    # 이미지 처리를 하기 위한 외부 이미지\r\n",
        "\r\n",
        "# image file 읽어오기\r\n",
        "im1 = pilimg.open(\"jeju_summer.jpg\")          # 배경 이미지 열기\r\n",
        "im2 = pilimg.open(\"baby1.jpg\")                # 조카 이미지1  열기\r\n",
        "im3 = pilimg.open(\"baby2.jpg\")                # 조카 이미지2  열기"
      ],
      "execution_count": 29,
      "outputs": []
    },
    {
      "cell_type": "code",
      "metadata": {
        "id": "VD5rWoQEC32m"
      },
      "source": [
        "pix1 = np.array(im1)                          # image data를 numpy array로 구성\r\n",
        "              \r\n",
        "# 조카 사진을 이어붙이기 위해 배경에 맞추어 변경할 크기 계산하 \r\n",
        "# 만약 배경 화면의 가로 크기가 홀수이면 첫번째 이미지의 가로 크기를 반올림하기"
      ],
      "execution_count": 30,
      "outputs": []
    },
    {
      "cell_type": "code",
      "metadata": {
        "id": "4q6Pr5kNC5GD"
      },
      "source": [
        "resizeX2 = pix1.shape[1]/2                    # 홀수인지 체크\r\n",
        "if (pix1.shape[1] % 2 > 0) :                  # 홀수인 경우\r\n",
        "    resizeX1 = pix1.shape[1] / 2 + 1\r\n",
        "else :\r\n",
        "    resizeX1 = pix1.shape[1] / 2                # 짝수인 경우"
      ],
      "execution_count": 31,
      "outputs": []
    },
    {
      "cell_type": "code",
      "metadata": {
        "id": "YicXFK0KC7EK"
      },
      "source": [
        "# 조카 사진 2장을 나란히 붙이기 위해 배경 이미지의 절반씩 차지하도록 크기 변경하기\r\n",
        "im2 = im2.resize((int(resizeX1), int(pix1.shape[0])))     # 첫번째 조카 사진 크기 변경\r\n",
        "pix2 = np.array(im2)"
      ],
      "execution_count": 32,
      "outputs": []
    },
    {
      "cell_type": "code",
      "metadata": {
        "id": "X9MPPurHC8BV"
      },
      "source": [
        "# 조카 사진 2개를 옆으로 나란히 붙이기(axis값을 0으로 하면 세로로 설정됨.)\r\n",
        "pix4 = np.concatenate((pix2, pix3), axis = 1)             # 두 사진을 가로 방향으로 붙이기"
      ],
      "execution_count": 33,
      "outputs": []
    },
    {
      "cell_type": "code",
      "metadata": {
        "id": "K1rHh0yuC-bw"
      },
      "source": [
        "# 이미지를 블렌딩하기 위해 각 픽셀의 RGB 값을 (0~1)의 실수 범위로 정규화(normalize)\r\n",
        "pix1 = (1/255)*pix1\r\n",
        "pix4 = (1/255)*pix4 "
      ],
      "execution_count": 34,
      "outputs": []
    },
    {
      "cell_type": "code",
      "metadata": {
        "id": "q5WdCu4eC_0V"
      },
      "source": [
        "# 가중치 정하기(배경을 30%, 조카 이미지를 70%로 합성)\r\n",
        "weight = 0.3"
      ],
      "execution_count": 35,
      "outputs": []
    },
    {
      "cell_type": "code",
      "metadata": {
        "id": "5xzazyD-DBEo"
      },
      "source": [
        "# 가중치를 적용하기 위해 원본 이미지 행렬에 가중치를 실수배하여 합하기\r\n",
        "pix5 = pix1 * weight + pix4 * (1-weight)"
      ],
      "execution_count": 36,
      "outputs": []
    },
    {
      "cell_type": "code",
      "metadata": {
        "id": "rpUhwdKqDB5c"
      },
      "source": [
        "# 두 원본 이미지의 가중치를 반대로 적용한 이미지 생성하기\r\n",
        "pix6 = pix1 * (1-weight) + pix4 * weight"
      ],
      "execution_count": 37,
      "outputs": []
    },
    {
      "cell_type": "code",
      "metadata": {
        "colab": {
          "base_uri": "https://localhost:8080/",
          "height": 85
        },
        "id": "xuxic95TDDzQ",
        "outputId": "72baea98-2c8c-485e-d708-d2ae69714b61"
      },
      "source": [
        "# 배경 이미지, 조카 사진 이미지와 합성한 이미지를 출력 \r\n",
        "plt.subplot(141)\r\n",
        "plt.imshow(pix1)\r\n",
        "plt.axis(\"off\")\r\n",
        "plt.title(\"background\", fontsize=10)          # 배경 이미지 출력\r\n",
        "\r\n",
        "plt.subplot(142)\r\n",
        "plt.imshow(pix4)\r\n",
        "plt.axis(\"off\")\r\n",
        "plt.title(\"pictures of baby\", fontsize=10)                 # 조카 사진 이미지 출력\r\n",
        "\r\n",
        "plt.subplot(143)\r\n",
        "plt.imshow(pix5)\r\n",
        "plt.axis(\"off\")\r\n",
        "plt.title(\"70% blended\", fontsize=10)                       # 두 개의 조카 사진을 70% 합성한 이미지 출력\r\n",
        "\r\n",
        "plt.subplot(144)\r\n",
        "plt.imshow(pix6)\r\n",
        "plt.axis(\"off\")\r\n",
        "plt.title(\"30% blended\", fontsize=10)                       # 두 개의 조카 사진을 30% 합성한 이미지 출력\r\n",
        "\r\n",
        "plt.show()"
      ],
      "execution_count": 38,
      "outputs": [
        {
          "output_type": "display_data",
          "data": {
            "image/png": "[encoded data removed]",
            "text/plain": [
              "<Figure size 432x288 with 4 Axes>"
            ]
          },
          "metadata": {
            "tags": [],
            "needs_background": "light"
          }
        }
      ]
    },
    {
      "cell_type": "code",
      "metadata": {
        "id": "DnGXb6GuEzM-"
      },
      "source": [
        "pix5 = pix5*255\r\n",
        "im5 = pilimg.fromarray(pix5.astype(np.uint8))\r\n",
        "im5.save(\"BlendedPic_70.png\")\r\n",
        "\r\n",
        "pix6 = pix6*255\r\n",
        "im6 = pilimg.fromarray(pix6.astype(np.uint8))\r\n",
        "im6.save(\"BlendedPic_30.png\")"
      ],
      "execution_count": 39,
      "outputs": []
    },
    {
      "cell_type": "code",
      "metadata": {
        "colab": {
          "base_uri": "https://localhost:8080/",
          "height": 92
        },
        "id": "I_1gG4doE21j",
        "outputId": "08c057be-1ad8-44ec-aaf6-392d7798aa28"
      },
      "source": [
        "# 컬러 이미지를 흑백 이미지로 만들기\r\n",
        "\r\n",
        "import numpy as np                  # 외부 모듈   \r\n",
        "import matplotlib.pyplot as plt\r\n",
        "import PIL.Image as pilimg\r\n",
        "\r\n",
        "im1 = pilimg.open(\"baby1.jpg\")      # image file 읽어오기 \r\n",
        " \r\n",
        "# image data를 numpy array로 구성\r\n",
        "pix1 = np.array(im1)\r\n",
        "pix1 = (1/255)*pix1\r\n",
        "pixSize1 = np.array(pix1.shape)\r\n",
        "\r\n",
        "pix2 = np.empty(pixSize1)\r\n",
        "\r\n",
        "for i in range(pixSize1[0]) :\r\n",
        "    for j in range(pixSize1[1]) :\r\n",
        "        grayPix = 0.2126*pix1[i][j][0] + 0.7152*pix1[i][j][1] + 0.0722*pix1[i][j][2]   # 회색톤으로 변환\r\n",
        "        pix2[i,j] = (grayPix, grayPix, grayPix)                        # RGB의 값을 모두 회색톤으로 지정\r\n",
        "        \r\n",
        "\r\n",
        "plt.subplot(141)\r\n",
        "plt.imshow(pix1)                  # 원래 이미지 출력                       \r\n",
        "plt.axis(\"off\")\r\n",
        "plt.title(\"Original\", fontsize=9)\r\n",
        "\r\n",
        "plt.subplot(142)\r\n",
        "plt.imshow(pix2)                  # 회색톤으로 변환한 이미지 출력\r\n",
        "plt.axis(\"off\")\r\n",
        "plt.title(\"Gray converted\", fontsize=9)\r\n",
        "\r\n",
        "plt.show()\r\n"
      ],
      "execution_count": 40,
      "outputs": [
        {
          "output_type": "display_data",
          "data": {
            "image/png": "[encoded data removed]",
            "text/plain": [
              "<Figure size 432x288 with 2 Axes>"
            ]
          },
          "metadata": {
            "tags": [],
            "needs_background": "light"
          }
        }
      ]
    }
  ]
}